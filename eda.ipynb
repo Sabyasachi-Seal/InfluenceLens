{
 "cells": [
  {
   "cell_type": "code",
   "execution_count": 6,
   "id": "0b165ff8",
   "metadata": {},
   "outputs": [],
   "source": [
    "import pandas as pd\n",
    "from sentence_transformers import SentenceTransformer\n",
    "import faiss\n"
   ]
  },
  {
   "cell_type": "code",
   "execution_count": 25,
   "id": "fa94e5e6",
   "metadata": {},
   "outputs": [],
   "source": [
    "df = pd.read_csv('data.csv')"
   ]
  },
  {
   "cell_type": "code",
   "execution_count": 26,
   "id": "e19437cd",
   "metadata": {},
   "outputs": [
    {
     "data": {
      "text/plain": [
       "Index(['id', 'createdAt', 'campaignId', 'sender', 'message', 'type',\n",
       "       'deliverableInput', 'deliverableStageId'],\n",
       "      dtype='object')"
      ]
     },
     "execution_count": 26,
     "metadata": {},
     "output_type": "execute_result"
    }
   ],
   "source": [
    "df.columns"
   ]
  },
  {
   "cell_type": "code",
   "execution_count": 27,
   "id": "224e2e57",
   "metadata": {},
   "outputs": [
    {
     "data": {
      "text/html": [
       "<div>\n",
       "<style scoped>\n",
       "    .dataframe tbody tr th:only-of-type {\n",
       "        vertical-align: middle;\n",
       "    }\n",
       "\n",
       "    .dataframe tbody tr th {\n",
       "        vertical-align: top;\n",
       "    }\n",
       "\n",
       "    .dataframe thead th {\n",
       "        text-align: right;\n",
       "    }\n",
       "</style>\n",
       "<table border=\"1\" class=\"dataframe\">\n",
       "  <thead>\n",
       "    <tr style=\"text-align: right;\">\n",
       "      <th></th>\n",
       "      <th>id</th>\n",
       "      <th>createdAt</th>\n",
       "      <th>campaignId</th>\n",
       "      <th>sender</th>\n",
       "      <th>message</th>\n",
       "      <th>type</th>\n",
       "      <th>deliverableInput</th>\n",
       "      <th>deliverableStageId</th>\n",
       "    </tr>\n",
       "  </thead>\n",
       "  <tbody>\n",
       "    <tr>\n",
       "      <th>0</th>\n",
       "      <td>17073</td>\n",
       "      <td>28:56.7</td>\n",
       "      <td>f82a2cd4-a074-4760-980b-3a8bd887ffc3</td>\n",
       "      <td>Milanote</td>\n",
       "      <td>Approved Video Topic &amp; Milanote Use Case With ...</td>\n",
       "      <td>approved</td>\n",
       "      <td>I’ve got a home decor themed video planned for...</td>\n",
       "      <td>1.0</td>\n",
       "    </tr>\n",
       "    <tr>\n",
       "      <th>1</th>\n",
       "      <td>17072</td>\n",
       "      <td>27:08.9</td>\n",
       "      <td>f82a2cd4-a074-4760-980b-3a8bd887ffc3</td>\n",
       "      <td>Milanote</td>\n",
       "      <td>Submitted Brief</td>\n",
       "      <td>submitted</td>\n",
       "      <td>&lt;p&gt;https://www.notion.so/milanote/averpaula-Cr...</td>\n",
       "      <td>8.0</td>\n",
       "    </tr>\n",
       "    <tr>\n",
       "      <th>2</th>\n",
       "      <td>17071</td>\n",
       "      <td>26:48.7</td>\n",
       "      <td>f82a2cd4-a074-4760-980b-3a8bd887ffc3</td>\n",
       "      <td>Milanote</td>\n",
       "      <td>Submitted CTA</td>\n",
       "      <td>submitted</td>\n",
       "      <td>&lt;p&gt;Please include these NEW links in the live ...</td>\n",
       "      <td>NaN</td>\n",
       "    </tr>\n",
       "    <tr>\n",
       "      <th>3</th>\n",
       "      <td>17069</td>\n",
       "      <td>59:47.8</td>\n",
       "      <td>67de9058-d460-42b9-9d3d-84830ef3080d</td>\n",
       "      <td>Milanote</td>\n",
       "      <td>Approved Draft Script With Feedback:\\nHey Jame...</td>\n",
       "      <td>approved</td>\n",
       "      <td>OK guys while that’s drying. I will tell you a...</td>\n",
       "      <td>4.0</td>\n",
       "    </tr>\n",
       "    <tr>\n",
       "      <th>4</th>\n",
       "      <td>17068</td>\n",
       "      <td>56:12.1</td>\n",
       "      <td>8493b5f3-3c49-4ab9-9314-a48837911d59</td>\n",
       "      <td>Milanote</td>\n",
       "      <td>Approved Draft Script With Feedback:\\nHey YeeJ...</td>\n",
       "      <td>approved</td>\n",
       "      <td>-I’ve always wanted to design my own character...</td>\n",
       "      <td>4.0</td>\n",
       "    </tr>\n",
       "  </tbody>\n",
       "</table>\n",
       "</div>"
      ],
      "text/plain": [
       "      id createdAt                            campaignId    sender  \\\n",
       "0  17073   28:56.7  f82a2cd4-a074-4760-980b-3a8bd887ffc3  Milanote   \n",
       "1  17072   27:08.9  f82a2cd4-a074-4760-980b-3a8bd887ffc3  Milanote   \n",
       "2  17071   26:48.7  f82a2cd4-a074-4760-980b-3a8bd887ffc3  Milanote   \n",
       "3  17069   59:47.8  67de9058-d460-42b9-9d3d-84830ef3080d  Milanote   \n",
       "4  17068   56:12.1  8493b5f3-3c49-4ab9-9314-a48837911d59  Milanote   \n",
       "\n",
       "                                             message       type  \\\n",
       "0  Approved Video Topic & Milanote Use Case With ...   approved   \n",
       "1                                    Submitted Brief  submitted   \n",
       "2                                      Submitted CTA  submitted   \n",
       "3  Approved Draft Script With Feedback:\\nHey Jame...   approved   \n",
       "4  Approved Draft Script With Feedback:\\nHey YeeJ...   approved   \n",
       "\n",
       "                                    deliverableInput  deliverableStageId  \n",
       "0  I’ve got a home decor themed video planned for...                 1.0  \n",
       "1  <p>https://www.notion.so/milanote/averpaula-Cr...                 8.0  \n",
       "2  <p>Please include these NEW links in the live ...                 NaN  \n",
       "3  OK guys while that’s drying. I will tell you a...                 4.0  \n",
       "4  -I’ve always wanted to design my own character...                 4.0  "
      ]
     },
     "execution_count": 27,
     "metadata": {},
     "output_type": "execute_result"
    }
   ],
   "source": [
    "df.head()"
   ]
  },
  {
   "cell_type": "code",
   "execution_count": 28,
   "id": "b5325de9",
   "metadata": {},
   "outputs": [
    {
     "data": {
      "text/plain": [
       "336"
      ]
     },
     "execution_count": 28,
     "metadata": {},
     "output_type": "execute_result"
    }
   ],
   "source": [
    "len(df)"
   ]
  },
  {
   "cell_type": "code",
   "execution_count": 29,
   "id": "299cfc98",
   "metadata": {},
   "outputs": [
    {
     "data": {
      "text/html": [
       "<div>\n",
       "<style scoped>\n",
       "    .dataframe tbody tr th:only-of-type {\n",
       "        vertical-align: middle;\n",
       "    }\n",
       "\n",
       "    .dataframe tbody tr th {\n",
       "        vertical-align: top;\n",
       "    }\n",
       "\n",
       "    .dataframe thead th {\n",
       "        text-align: right;\n",
       "    }\n",
       "</style>\n",
       "<table border=\"1\" class=\"dataframe\">\n",
       "  <thead>\n",
       "    <tr style=\"text-align: right;\">\n",
       "      <th></th>\n",
       "      <th>id</th>\n",
       "      <th>deliverableStageId</th>\n",
       "    </tr>\n",
       "  </thead>\n",
       "  <tbody>\n",
       "    <tr>\n",
       "      <th>count</th>\n",
       "      <td>336.000000</td>\n",
       "      <td>280.000000</td>\n",
       "    </tr>\n",
       "    <tr>\n",
       "      <th>mean</th>\n",
       "      <td>15109.785714</td>\n",
       "      <td>4.200000</td>\n",
       "    </tr>\n",
       "    <tr>\n",
       "      <th>std</th>\n",
       "      <td>1583.320914</td>\n",
       "      <td>2.655082</td>\n",
       "    </tr>\n",
       "    <tr>\n",
       "      <th>min</th>\n",
       "      <td>10902.000000</td>\n",
       "      <td>1.000000</td>\n",
       "    </tr>\n",
       "    <tr>\n",
       "      <th>25%</th>\n",
       "      <td>14321.750000</td>\n",
       "      <td>2.000000</td>\n",
       "    </tr>\n",
       "    <tr>\n",
       "      <th>50%</th>\n",
       "      <td>15411.000000</td>\n",
       "      <td>4.000000</td>\n",
       "    </tr>\n",
       "    <tr>\n",
       "      <th>75%</th>\n",
       "      <td>16430.750000</td>\n",
       "      <td>7.000000</td>\n",
       "    </tr>\n",
       "    <tr>\n",
       "      <th>max</th>\n",
       "      <td>17073.000000</td>\n",
       "      <td>8.000000</td>\n",
       "    </tr>\n",
       "  </tbody>\n",
       "</table>\n",
       "</div>"
      ],
      "text/plain": [
       "                 id  deliverableStageId\n",
       "count    336.000000          280.000000\n",
       "mean   15109.785714            4.200000\n",
       "std     1583.320914            2.655082\n",
       "min    10902.000000            1.000000\n",
       "25%    14321.750000            2.000000\n",
       "50%    15411.000000            4.000000\n",
       "75%    16430.750000            7.000000\n",
       "max    17073.000000            8.000000"
      ]
     },
     "execution_count": 29,
     "metadata": {},
     "output_type": "execute_result"
    }
   ],
   "source": [
    "df.describe()"
   ]
  },
  {
   "cell_type": "code",
   "execution_count": 30,
   "id": "b0076225",
   "metadata": {},
   "outputs": [
    {
     "data": {
      "text/plain": [
       "array(['approved', 'submitted', 'rejected'], dtype=object)"
      ]
     },
     "execution_count": 30,
     "metadata": {},
     "output_type": "execute_result"
    }
   ],
   "source": [
    "df['type'].unique()"
   ]
  },
  {
   "cell_type": "code",
   "execution_count": 32,
   "id": "24a587d1",
   "metadata": {},
   "outputs": [
    {
     "data": {
      "text/plain": [
       "(70,)"
      ]
     },
     "execution_count": 32,
     "metadata": {},
     "output_type": "execute_result"
    }
   ],
   "source": [
    "df['campaignId'].unique().shape"
   ]
  },
  {
   "cell_type": "code",
   "execution_count": 5,
   "id": "93d87b19",
   "metadata": {},
   "outputs": [],
   "source": [
    "briefs = df[df['message'] == \"Submitted Brief\"]['deliverableInput'].tolist()\n",
    "brief_ids = df[df['message'] == \"Submitted Brief\"]['campaignId'].tolist()"
   ]
  },
  {
   "cell_type": "code",
   "execution_count": null,
   "id": "9a54ad0b",
   "metadata": {},
   "outputs": [],
   "source": []
  }
 ],
 "metadata": {
  "kernelspec": {
   "display_name": "Python 3",
   "language": "python",
   "name": "python3"
  },
  "language_info": {
   "codemirror_mode": {
    "name": "ipython",
    "version": 3
   },
   "file_extension": ".py",
   "mimetype": "text/x-python",
   "name": "python",
   "nbconvert_exporter": "python",
   "pygments_lexer": "ipython3",
   "version": "3.9.13"
  }
 },
 "nbformat": 4,
 "nbformat_minor": 5
}
